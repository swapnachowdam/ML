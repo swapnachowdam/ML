{
 "cells": [
  {
   "cell_type": "markdown",
   "metadata": {},
   "source": [
    "### Write a function so that the columns of the output matrix are powers of the input vector. \n",
    " \n",
    "The order of the powers is determined by the increasing boolean argument. Specifically, when increasing is False, the i-th output column is the input vector raised element-wise to the power of N - i - 1. \n",
    " \n",
    " \n",
    "HINT: Such a matrix with a geometric progression in each row is named for AlexandreTheophile Vandermonde. \n",
    " \n"
   ]
  },
  {
   "cell_type": "code",
   "execution_count": 1,
   "metadata": {},
   "outputs": [],
   "source": [
    "import pandas as pd\n",
    "import numpy as np"
   ]
  },
  {
   "cell_type": "code",
   "execution_count": 2,
   "metadata": {},
   "outputs": [],
   "source": [
    "def vander_matrix(ipvector): \n",
    "    print(\"the input vector is\",ipvector)\n",
    "    print('-'*40 ,'\\n')\n",
    "    print(\"no. of columns in op is N=\",len(ipvector),)\n",
    "    op=np.vander(ipvector,len(ipvector),increasing=False)\n",
    "    print('\\n The output array is \\n',op)"
   ]
  },
  {
   "cell_type": "code",
   "execution_count": 3,
   "metadata": {},
   "outputs": [
    {
     "name": "stdout",
     "output_type": "stream",
     "text": [
      "the input vector is [1, 2, 3, 4, 5]\n",
      "---------------------------------------- \n",
      "\n",
      "no. of columns in op is N= 5\n",
      "\n",
      " The output array is \n",
      " [[  1   1   1   1   1]\n",
      " [ 16   8   4   2   1]\n",
      " [ 81  27   9   3   1]\n",
      " [256  64  16   4   1]\n",
      " [625 125  25   5   1]]\n"
     ]
    }
   ],
   "source": [
    "vander_matrix([1,2,3,4,5])"
   ]
  },
  {
   "cell_type": "markdown",
   "metadata": {},
   "source": [
    "### Problem Statement 2:  Given a sequence of n values x1, x2, ..., xn and a window size k>0, the k-th moving average of the given sequence is defined as follows: \n",
    " \n",
    "The moving average sequence has n-k+1 elements as shown below. \n",
    " \n",
    "The moving averages with k=4 of a ten-value sequence (n=10) is shown below \n",
    " \n",
    "i 1  2  3  4  5  6  7  8  9 10  ===== == == == == == == == == == ==  Input 10 20 30 40 50 60 70 80 90 100  y1      25 = (10+20+30+40)/4  y2      35 = (20+30+40+50)/4  y3      45 = (30+40+50+60)/4  y4 55 = (40+50+60+70)/4 y5 65 = (50+60+70+80)/4 y6 75 = (60+70+80+90)/4 y7 85 = (70+80+90+100)/4 \n",
    " \n",
    " \n",
    "Thus, the moving average sequence has n-k+1=10-4+1=7 values. \n",
    "\n",
    "\n",
    "\n",
    "Question: Write a function to find moving average in an array over a window:          Test it over [3, 5, 7, 2, 8, 10, 11, 65, 72, 81, 99, 100, 150] and window of 3. \n",
    " \n",
    " \n",
    " \n",
    "Note: Solution submitted via github must contain all the detailed steps. \n",
    " \n",
    " \n"
   ]
  },
  {
   "cell_type": "code",
   "execution_count": 125,
   "metadata": {},
   "outputs": [],
   "source": [
    "##n=13 elements sequence ,k=3 \n",
    "## op elements=13-3+1=11\n",
    "m=[3, 5, 7, 2, 8, 10, 11, 65, 72, 81, 99, 100, 150]\n",
    "\n",
    "def mov_avg(m,k):\n",
    "    print(\"no. of elememnts in given sequence or list is\",len(m),\n",
    "          '\\n\\n value of window (used to calculate moving average) is',k,\n",
    "          '\\n\\n no. of elements in output sequence is',len(m)-k+1)\n",
    "    seq=[]\n",
    "    n=0\n",
    "    for i in m:\n",
    "        op_avg=sum(m[n:n+k])/k  ## adding k elements for every iteration and dividing sum by k \n",
    "        p=seq.append(op_avg)    ## storing the calcluted average value       \n",
    "        n=n+1\n",
    "        q=np.array(seq)\n",
    "        if n+k>len(m):\n",
    "            break\n",
    "    print('\\n\\nThe output sequence of moving averages is\\n\\n' ,q)\n"
   ]
  },
  {
   "cell_type": "code",
   "execution_count": 126,
   "metadata": {},
   "outputs": [
    {
     "name": "stdout",
     "output_type": "stream",
     "text": [
      "no. of elememnts in given sequence or list is 13 \n",
      "\n",
      " value of window (used to calculate moving average) is 3 \n",
      "\n",
      " no. of elements in output sequence is 11\n",
      "\n",
      "\n",
      "The output sequence of moving averages is\n",
      "\n",
      " [  5.           4.66666667   5.66666667   6.66666667   9.66666667\n",
      "  28.66666667  49.33333333  72.66666667  84.          93.33333333\n",
      " 116.33333333]\n"
     ]
    }
   ],
   "source": [
    "mov_avg(m,3)"
   ]
  },
  {
   "cell_type": "code",
   "execution_count": null,
   "metadata": {},
   "outputs": [],
   "source": []
  },
  {
   "cell_type": "code",
   "execution_count": null,
   "metadata": {},
   "outputs": [],
   "source": []
  }
 ],
 "metadata": {
  "kernelspec": {
   "display_name": "Python 3",
   "language": "python",
   "name": "python3"
  },
  "language_info": {
   "codemirror_mode": {
    "name": "ipython",
    "version": 3
   },
   "file_extension": ".py",
   "mimetype": "text/x-python",
   "name": "python",
   "nbconvert_exporter": "python",
   "pygments_lexer": "ipython3",
   "version": "3.7.1"
  }
 },
 "nbformat": 4,
 "nbformat_minor": 2
}
